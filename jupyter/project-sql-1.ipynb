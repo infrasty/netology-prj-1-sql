{
 "cells": [
  {
   "cell_type": "code",
   "execution_count": 1,
   "metadata": {},
   "outputs": [],
   "source": [
    "import os\n",
    "import psycopg2\n",
    "import psycopg2.extensions\n",
    "import pandas as pd"
   ]
  },
  {
   "cell_type": "code",
   "execution_count": 2,
   "metadata": {},
   "outputs": [],
   "source": [
    "os.environ['APP_POSTGRES_HOST']='localhost'\n",
    "os.environ['APP_POSTGRES_PORT']='65432'\n",
    "os.environ['APP_PANDAS_DIR']='.'"
   ]
  },
  {
   "cell_type": "code",
   "execution_count": 3,
   "metadata": {},
   "outputs": [],
   "source": [
    "params = {\n",
    "    \"host\": os.environ['APP_POSTGRES_HOST'],\n",
    "    \"port\": os.environ['APP_POSTGRES_PORT'],\n",
    "    \"user\": 'postgres'\n",
    "}\n",
    "conn = psycopg2.connect(**params)"
   ]
  },
  {
   "cell_type": "code",
   "execution_count": 4,
   "metadata": {},
   "outputs": [],
   "source": [
    "psycopg2.extensions.register_type(\n",
    "    psycopg2.extensions.UNICODE,\n",
    "    conn\n",
    ")\n",
    "conn.set_isolation_level(\n",
    "    psycopg2.extensions.ISOLATION_LEVEL_AUTOCOMMIT\n",
    ")\n",
    "cursor = conn.cursor()\n",
    "user_item_query_config = {\n",
    "    \"MIN_USERS_FOR_ITEM\": 10,\n",
    "    \"MIN_ITEMS_FOR_USER\": 3,\n",
    "    \"MAX_ITEMS_FOR_USER\": 50,\n",
    "    \"MAX_ROW_NUMBER\": 100000\n",
    "}"
   ]
  },
  {
   "cell_type": "code",
   "execution_count": 5,
   "metadata": {},
   "outputs": [],
   "source": [
    "req2_pd = \"\"\"-- Запрос 2: Общее количество произведенных продуктов питания и кормов ( в 1000 тонн ) за все время\n",
    "select sum(qty) as total_goods from ffhistory;\"\"\"\n",
    "\n",
    "req3_pd = \"\"\"-- Запрос 3: Общее количество перечня продуктов питания и кормов \n",
    "select count(distinct goods.name) as dict_num from goods;\"\"\"\n",
    "\n",
    "req4_pd = \"\"\"-- Запрос 4: Статистика по производству за сколько лет\n",
    "select count(distinct ffhistory.year) as years_total from ffhistory;\"\"\"\n",
    "\n",
    "req5_pd = \"\"\"-- Запрос 5: Подсчитать количество произведенного молока за 2013 год\n",
    "select sum(ff.qty) as Milk_2013\n",
    "    from ffhistory ff\n",
    "        join goods g on ff.gid=g.id\n",
    "    where \n",
    "        g.name like 'Milk%' and\n",
    "        ff.year=2013;\"\"\"\n",
    "\n",
    "req7_pd = \"\"\"-- Запрос 7: Вывести топ-5 производителей продуктов питания за все время\n",
    "select c.name, sum(ff.qty) as total_food\n",
    "    from ffhistory ff\n",
    "        join goods g on ff.gid=g.id\n",
    "        join country c on ff.cid=c.id\n",
    "        join foodfeed f on ff.ffid=f.id\n",
    "    where\n",
    "        f.name = 'Food'\n",
    "    group by ff.cid,c.name\n",
    "    order by total_food desc limit 5;\"\"\""
   ]
  },
  {
   "cell_type": "code",
   "execution_count": 6,
   "metadata": {},
   "outputs": [],
   "source": [
    "cursor.execute(req2_pd)\n",
    "df_req2 = pd.DataFrame(\n",
    "    [i for i in cursor.fetchall()], columns=['total_goods'])"
   ]
  },
  {
   "cell_type": "code",
   "execution_count": 7,
   "metadata": {},
   "outputs": [],
   "source": [
    "cursor.execute(req3_pd)\n",
    "df_req3 = pd.DataFrame(\n",
    "    [i for i in cursor.fetchall()], columns=['dict_num'])"
   ]
  },
  {
   "cell_type": "code",
   "execution_count": 8,
   "metadata": {},
   "outputs": [],
   "source": [
    "cursor.execute(req4_pd)\n",
    "df_req4 = pd.DataFrame(\n",
    "    [i for i in cursor.fetchall()], columns=['years_total'])"
   ]
  },
  {
   "cell_type": "code",
   "execution_count": 9,
   "metadata": {},
   "outputs": [],
   "source": [
    "cursor.execute(req5_pd)\n",
    "df_req5 = pd.DataFrame(\n",
    "    [i for i in cursor.fetchall()], columns=['milk_2013'])"
   ]
  },
  {
   "cell_type": "code",
   "execution_count": 10,
   "metadata": {},
   "outputs": [],
   "source": [
    "cursor.execute(req7_pd)\n",
    "df_req7 = pd.DataFrame(\n",
    "    [i for i in cursor.fetchall()], columns=['name', 'total_food'])"
   ]
  },
  {
   "cell_type": "code",
   "execution_count": 11,
   "metadata": {},
   "outputs": [],
   "source": [
    "df_req7.to_csv(os.environ['APP_PANDAS_DIR'] + '/' + 'req7pd.csv')"
   ]
  }
 ],
 "metadata": {
  "kernelspec": {
   "display_name": "Python 3",
   "language": "python",
   "name": "python3"
  },
  "language_info": {
   "codemirror_mode": {
    "name": "ipython",
    "version": 3
   },
   "file_extension": ".py",
   "mimetype": "text/x-python",
   "name": "python",
   "nbconvert_exporter": "python",
   "pygments_lexer": "ipython3",
   "version": "3.6.5"
  }
 },
 "nbformat": 4,
 "nbformat_minor": 2
}
